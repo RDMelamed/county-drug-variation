{
 "cells": [
  {
   "cell_type": "markdown",
   "metadata": {},
   "source": [
    "### Where you live in the United States says a lot about your future health\n",
    "<p> If you live in Colorado, your can expect to live to be in your 80s-- close to the lifespan of the scandinavians. But people in the Mississipi delta have a life expectancy in the low 70's, which is no better than developing countries like Honduras. ([source](http://www.healthdata.org/)). If you color each county by life expectancy (with red counties having the best outcome), you get this map: <img src=\"img/life_exp.png\" alt=\"life exp\" style=\"width: 400px;\"/> </p>.\n",
    "\n",
    "Here's another paradox: despite these mixed health outcomes, the USA spends more than any other country. Over 17% of the GDP is spent on health care, and drug spending is the fastest growing of these expenses. Drug spending also varies across the nation.  \n",
    "\n",
    "### Our idea: how does drug-prescription vary with geography?\n",
    "We look at variation in drug prescribing across USA counties with a goal of learning about important differences between areas. For example:\n",
    "- Are poorer parts of the country missing out on certain drugs? \n",
    "- Do richer areas use more expensive drugs? \n",
    "- Do some areas of the country follow current medical guidelines more than others? \n",
    "\n",
    "We first looked at how similar each state's drug prescribing is to each other state, and roughly assign each state to a \"type\" of drug preference, indicated by the state's color in the map below. These preferences clearly relate to geographical similarities--for example the south-eastern states (red) mostly group together. We also find some unexpected groupings, such as the northern New England states with Minnesota and Wisconsin (yellow).\n",
    "<img src=\"img/state_groups.png\" alt=\"state groups\" style=\"width: 400px;\"/>\n",
    "\n",
    "So there are clearly some meaningful differences in drug prescription across the country.  What can we find out from this?\n",
    "\n",
    "### Looking at differences in prescription of blood pressure drugs\n",
    "Our approach measures for each county, whether that county uses more or less of each drug than is typical across the USA (accounting for age, and other factors), across more than 2000 counties. \n",
    "\n",
    "There are many different popular **drugs for high blood pressure**. Below, we show, for the years 2003-2013, use of three types of these. Red areas use more of a drug than average, and blue use less than expected, while the gray colored counties use an average amount (white counties are excluded because of small population sizes):\n",
    "\n",
    "![antihypertensives](img/various_antihypertensives.png)\n",
    "\n",
    "The left map shows the cheapest high blood pressure drugs: these are very popular in a strip of counties in the \"Deep South\" (and to a lesser extent, counties in the upper Midwest and northern New England).  Moving from left to right, we show more expensive high blood pressure drugs. Counties that use the cheaper drugs use comparatively less of the more expensive ones. \n",
    "\n",
    "New and expensive drugs might not be better: in 2002, at the start of our study period, a [major clinical clinical trial](https://www.nhlbi.nih.gov/health/allhat/qckref.htm) suggested that the older cheaper drugs (thiazides) were better than some newer drugs (ACE inhibitors and calcium channel blockers; Angiotensin receptor blockers were so new at the time that there was no major clinical trial comparing them to the thiazides). Guidelines suggested that the cheap drugs should be used unless patients have specific risk factors.\n",
    "\n",
    "### What factors drive drug preference?\n",
    "You might guess that areas where a higher fraction of people have obesity (a risk factor for high blood pressure) will use more high blood pressure drugs, and that areas where income is higher will use the more expensive drugs.  Below, we show rates of obesity per county (left), and median income per county (([source](http://www.countyhealthrankings.org/rankings/data))). \n",
    "\n",
    "![obesity income](img/obesity_income.png)\n",
    "\n",
    "You can see that the areas with more obesity generally are also poorer. (The first plot on this page shows that these same areas also have lower life expectancy.) So, these factors are actually intertwined.\n",
    "\n",
    "Is it possible to separate out factors that are associated with use of drugs?\n",
    "\n"
   ]
  },
  {
   "cell_type": "markdown",
   "metadata": {},
   "source": [
    "### A simple example: How would prescriptions look if they were determined only by obesity and income?\n",
    "To show how we could identify influences in drug prescription, I used the actual levels of obesity and income per county, and **simulated** four different hypertension drugs, that vary by price (the cheapest is **\\$** and the most expensive is **\\$$$$**). In my simulation, each drug is used more when counties have more obesity, but expensive drugs are prescribed more in rich counties, while poor counties prefer cheap drugs.  Below, each county is one row, and as before, red indicates high prescription for a drug (and also indicates high income or high obesity).  Similar counties are clustered near each other:\n",
    "<img src=\"img/simulated_data.png\" alt=\"simulated data\" style=\"width: 400px;\"/>\n",
    "\n",
    "For another view of the simulated drug prescription, below each point is a county, and both plots show the same points: on the x-axis (use of cheapest drug, **\\$**) and y-axis (use of the most expensive, **\\$$$$**). A negative value means that a county uses less of a drug than you'd expect, and a positive value means it uses more than average. The only thing that is different between the two plots is that the left colors the counties by their obesity, and the right plot by their income. \n",
    "\n",
    "<img src=\"img/simulated_scatter.png\" alt=\"simulated scatter\" style=\"width: 500px;\"/>\n",
    "\n",
    "So the top right counties, with highest prescription for both drugs, have the highest obesity rates. Like we saw before, these are generally poor counties.\n",
    "\n"
   ]
  },
  {
   "cell_type": "markdown",
   "metadata": {},
   "source": [
    "### Separating the influences in the simple example\n",
    "What we really want is to find the independent influences on drug prescription. Although income and obesity are correlated, I simulated the data to make both factors have an independent influence.  A popular way to find independent factors like this is **Principal components analysis (PCA)** ([wikipedia](https://en.wikipedia.org/wiki/Principal_component_analysis), [a visual introduction](http://www.lauradhamilton.com/introduction-to-principal-component-analysis-pca))  \n",
    "\n",
    "PCA will identify the \"directions\" of the variation in the data, called the **components**.  For this simulated simple data, we know there are two directions:\n",
    "<img src=\"img/simulated_components.png\" alt=\"simulated components\" style=\"width: 350px;\"/>\n",
    "\n",
    "With PCA, you can **project** the data onto the components. Below, for a few of the counties (highlighted in yellow), I show the **projections** of the drug prescription rates onto each of the two components, with dashed lines. Each line connects a county to its projection on the two PCA directions:\n",
    "<img src=\"img/projections.png\" alt=\"projections\" style=\"width: 350px;\"/>\n",
    "\n",
    "For example, the right-most highlighted county has a very high projection onto the \"obesity\" component, and a low projection on the \"income\" component. That county uses a lot of both of the high blood pressure drugs, but it prefers the cheaper drug.\n",
    "\n",
    "The idea of PCA is that these projections capture most of the variation in the data. So from this four-dimensional data on each county's use of a number of drugs, we reduce the signal down to two dimensions that relate to the important influences on drug prescription.  Here, in our simple example, the real differences between counties are their obesity and income."
   ]
  },
  {
   "cell_type": "markdown",
   "metadata": {},
   "source": [
    "\n",
    "\n",
    "### So, moving back to the real data\n",
    "Then, we can use PCA on the real data on use of high blood pressure drugs to find the components, and project each county on to these components.  Here are two maps of the US, colored by how each county projects onto these components:\n",
    "    <img src=\"img/hypertens_components_map.png\" alt=\"hypertension projections\" style=\"width: 600px;\"/>\n",
    "\n",
    "The first component looks a bit like the obesity rates map, and the second component looks a bit like the income map (but with the sign flipped). In order to investigate the differences between counties that are associated with that component, we can compare projections to other characteristics of a county. Below, each point is again a county, and the x-axis is the projection onto the First component (same as the left plot above), and the y-axis is different for each plot:\n",
    "   <img src=\"img/component1_cors.png\" alt=\"component1\" style=\"width: 500px;\"/>\n",
    "\n",
    "So the high-projection counties in the \"First component\" map have higher African-American population, lower life expectancy, and use more of two popular high blood pressure medications. In fact, these Southeastern counties use more of almost all the high blood pressure drugs, as compared to the northern and western blue areas on the map. The [correlation](https://en.wikipedia.org/wiki/Spearman%27s_rank_correlation_coefficient) values in the plot titles summarize the relationships. (These values range from -1 to 1, with zero meaning no assocation; -1 is most opposite, such as the life expectancy plot above, and 1 is most similar, such as the fraction African-American plot).\n",
    "\n",
    "Here's the plot for the second component, where I again chose drugs and demographic characteristics with a strong correlation:\n",
    "   <img src=\"img/component2_cors.png\" alt=\"component1\" style=\"width: 500px;\"/>\n",
    "\n",
    "The lowest projecting counties, such as in the New York City area, have high income, low obesity, and use more of an expensive drug (olmesartan), and less of a cheap drug (lisinopril) compared to the national average. \n",
    "\n",
    "To get a better idea of the what might be in common between counties with a high (or low) projection, I plot the actual correlations. \n",
    "\n",
    "Below, on the left, each blue dot represents the correlation of one demographic characteristic  with the first component.  Matching up with our plots above, you can see non-Hispanic African-American population near the top (positive correlation), and life expectancy near the bottom (negative correlation). On the right are therapeutic categories of drugs that are correlated with the first component:\n",
    "  <img src=\"img/component1_fancy.png\" alt=\"component1 fancy\" style=\"width: 800px;\"/>\n",
    "\n",
    "Here's the same plot for the second component:\n",
    "  <img src=\"img/component2_fancy.png\" alt=\"component2 fancy\" style=\"width: 800px;\"/>\n",
    "\n",
    "While the first component relates to increased use of most high blood pressure drugs, it also reflects a preference for cheaper drugs. The second relates to a price preference for more expensive drugs in urban areas. The most cheap drugs (thiazides) are popular in the rural areas mapped in red in the \"second component\" plot.\n",
    "\n",
    "So the real picture is somewhat similar to my simple model above, but of course a bit more complicated! Things get even more interesting if you perform this analysis looking at ALL drugs.  In the [web app](http://drugmap.uchicago.edu/app), you can explore similar plots to the last few I made.  I hope you check it out!\n"
   ]
  },
  {
   "cell_type": "code",
   "execution_count": null,
   "metadata": {
    "collapsed": true
   },
   "outputs": [],
   "source": []
  }
 ],
 "metadata": {
  "kernelspec": {
   "display_name": "Python 2",
   "language": "python",
   "name": "python2"
  },
  "language_info": {
   "codemirror_mode": {
    "name": "ipython",
    "version": 2
   },
   "file_extension": ".py",
   "mimetype": "text/x-python",
   "name": "python",
   "nbconvert_exporter": "python",
   "pygments_lexer": "ipython2",
   "version": "2.7.12"
  }
 },
 "nbformat": 4,
 "nbformat_minor": 0
}
